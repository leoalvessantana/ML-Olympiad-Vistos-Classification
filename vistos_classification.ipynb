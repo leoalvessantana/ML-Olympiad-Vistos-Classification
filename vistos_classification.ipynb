{
 "cells": [
  {
   "attachments": {},
   "cell_type": "markdown",
   "metadata": {},
   "source": [
    "# 0.0 IMPORTS"
   ]
  },
  {
   "attachments": {},
   "cell_type": "markdown",
   "metadata": {},
   "source": [
    "## 0.1 Bibliotecas\n"
   ]
  },
  {
   "cell_type": "code",
   "execution_count": 26,
   "metadata": {},
   "outputs": [],
   "source": [
    "import numpy as np\n",
    "import pandas as pd\n",
    "import seaborn as sns\n"
   ]
  },
  {
   "attachments": {},
   "cell_type": "markdown",
   "metadata": {},
   "source": [
    "## 0.2 Helper Functions"
   ]
  },
  {
   "cell_type": "code",
   "execution_count": null,
   "metadata": {},
   "outputs": [],
   "source": []
  },
  {
   "attachments": {},
   "cell_type": "markdown",
   "metadata": {},
   "source": [
    "## 0.3 Loading data"
   ]
  },
  {
   "cell_type": "code",
   "execution_count": 2,
   "metadata": {},
   "outputs": [],
   "source": [
    "df = pd.read_csv('Data/train.csv')"
   ]
  },
  {
   "cell_type": "code",
   "execution_count": 3,
   "metadata": {},
   "outputs": [
    {
     "data": {
      "text/html": [
       "<div>\n",
       "<style scoped>\n",
       "    .dataframe tbody tr th:only-of-type {\n",
       "        vertical-align: middle;\n",
       "    }\n",
       "\n",
       "    .dataframe tbody tr th {\n",
       "        vertical-align: top;\n",
       "    }\n",
       "\n",
       "    .dataframe thead th {\n",
       "        text-align: right;\n",
       "    }\n",
       "</style>\n",
       "<table border=\"1\" class=\"dataframe\">\n",
       "  <thead>\n",
       "    <tr style=\"text-align: right;\">\n",
       "      <th></th>\n",
       "      <th>id_do_caso</th>\n",
       "      <th>continente</th>\n",
       "      <th>educacao_do_empregado</th>\n",
       "      <th>tem_experiencia_de_trabalho</th>\n",
       "      <th>requer_treinamento_de_trabalho</th>\n",
       "      <th>num_de_empregados</th>\n",
       "      <th>ano_de_estabelecimento</th>\n",
       "      <th>regiao_de_emprego</th>\n",
       "      <th>salario_prevalecente</th>\n",
       "      <th>unidade_de_salario</th>\n",
       "      <th>posicao_em_tempo_integral</th>\n",
       "      <th>status_do_caso</th>\n",
       "    </tr>\n",
       "  </thead>\n",
       "  <tbody>\n",
       "    <tr>\n",
       "      <th>0</th>\n",
       "      <td>EZYV10567</td>\n",
       "      <td>Europa</td>\n",
       "      <td>Ensino Médio</td>\n",
       "      <td>N</td>\n",
       "      <td>S</td>\n",
       "      <td>2087</td>\n",
       "      <td>1855</td>\n",
       "      <td>Sul</td>\n",
       "      <td>69711.24</td>\n",
       "      <td>Ano</td>\n",
       "      <td>S</td>\n",
       "      <td>Negado</td>\n",
       "    </tr>\n",
       "    <tr>\n",
       "      <th>1</th>\n",
       "      <td>EZYV5505</td>\n",
       "      <td>Ásia</td>\n",
       "      <td>Mestrado</td>\n",
       "      <td>S</td>\n",
       "      <td>N</td>\n",
       "      <td>5991</td>\n",
       "      <td>2003</td>\n",
       "      <td>Meio-Oeste</td>\n",
       "      <td>52931.38</td>\n",
       "      <td>Ano</td>\n",
       "      <td>S</td>\n",
       "      <td>Aprovado</td>\n",
       "    </tr>\n",
       "    <tr>\n",
       "      <th>2</th>\n",
       "      <td>EZYV5207</td>\n",
       "      <td>Ásia</td>\n",
       "      <td>Ensino Médio</td>\n",
       "      <td>N</td>\n",
       "      <td>N</td>\n",
       "      <td>1426</td>\n",
       "      <td>2000</td>\n",
       "      <td>Ilha</td>\n",
       "      <td>110830.21</td>\n",
       "      <td>Ano</td>\n",
       "      <td>S</td>\n",
       "      <td>Negado</td>\n",
       "    </tr>\n",
       "    <tr>\n",
       "      <th>3</th>\n",
       "      <td>EZYV7545</td>\n",
       "      <td>Ásia</td>\n",
       "      <td>Ensino Médio</td>\n",
       "      <td>N</td>\n",
       "      <td>N</td>\n",
       "      <td>3846</td>\n",
       "      <td>1992</td>\n",
       "      <td>Meio-Oeste</td>\n",
       "      <td>91884.68</td>\n",
       "      <td>Semana</td>\n",
       "      <td>S</td>\n",
       "      <td>Negado</td>\n",
       "    </tr>\n",
       "    <tr>\n",
       "      <th>4</th>\n",
       "      <td>EZYV16071</td>\n",
       "      <td>Ásia</td>\n",
       "      <td>Ensino Superior</td>\n",
       "      <td>S</td>\n",
       "      <td>N</td>\n",
       "      <td>3957</td>\n",
       "      <td>1949</td>\n",
       "      <td>Nordeste</td>\n",
       "      <td>138155.24</td>\n",
       "      <td>Ano</td>\n",
       "      <td>S</td>\n",
       "      <td>Aprovado</td>\n",
       "    </tr>\n",
       "  </tbody>\n",
       "</table>\n",
       "</div>"
      ],
      "text/plain": [
       "  id_do_caso continente educacao_do_empregado tem_experiencia_de_trabalho  \\\n",
       "0  EZYV10567     Europa          Ensino Médio                           N   \n",
       "1   EZYV5505       Ásia              Mestrado                           S   \n",
       "2   EZYV5207       Ásia          Ensino Médio                           N   \n",
       "3   EZYV7545       Ásia          Ensino Médio                           N   \n",
       "4  EZYV16071       Ásia       Ensino Superior                           S   \n",
       "\n",
       "  requer_treinamento_de_trabalho  num_de_empregados  ano_de_estabelecimento  \\\n",
       "0                              S               2087                    1855   \n",
       "1                              N               5991                    2003   \n",
       "2                              N               1426                    2000   \n",
       "3                              N               3846                    1992   \n",
       "4                              N               3957                    1949   \n",
       "\n",
       "  regiao_de_emprego  salario_prevalecente unidade_de_salario  \\\n",
       "0               Sul              69711.24                Ano   \n",
       "1        Meio-Oeste              52931.38                Ano   \n",
       "2              Ilha             110830.21                Ano   \n",
       "3        Meio-Oeste              91884.68             Semana   \n",
       "4          Nordeste             138155.24                Ano   \n",
       "\n",
       "  posicao_em_tempo_integral status_do_caso  \n",
       "0                         S         Negado  \n",
       "1                         S       Aprovado  \n",
       "2                         S         Negado  \n",
       "3                         S         Negado  \n",
       "4                         S       Aprovado  "
      ]
     },
     "execution_count": 3,
     "metadata": {},
     "output_type": "execute_result"
    }
   ],
   "source": [
    "df.head()"
   ]
  },
  {
   "attachments": {},
   "cell_type": "markdown",
   "metadata": {},
   "source": [
    "# 1.0 DATA DESCRIPTION"
   ]
  },
  {
   "cell_type": "code",
   "execution_count": 4,
   "metadata": {},
   "outputs": [],
   "source": [
    "# fazendo uma copia do dataset\n",
    "df1 = df.copy() "
   ]
  },
  {
   "attachments": {},
   "cell_type": "markdown",
   "metadata": {},
   "source": [
    "## 1.1 Data Dimensions"
   ]
  },
  {
   "cell_type": "code",
   "execution_count": 5,
   "metadata": {},
   "outputs": [
    {
     "name": "stdout",
     "output_type": "stream",
     "text": [
      "Number of rows: 17836\n",
      "Number of coumns: 12\n"
     ]
    }
   ],
   "source": [
    "print('Number of rows: {}'.format(df1.shape[0]))\n",
    "print('Number of coumns: {}'.format(df1.shape[1]))"
   ]
  },
  {
   "attachments": {},
   "cell_type": "markdown",
   "metadata": {},
   "source": [
    "## 1.2 Data Types"
   ]
  },
  {
   "cell_type": "code",
   "execution_count": 6,
   "metadata": {},
   "outputs": [
    {
     "data": {
      "text/plain": [
       "id_do_caso                         object\n",
       "continente                         object\n",
       "educacao_do_empregado              object\n",
       "tem_experiencia_de_trabalho        object\n",
       "requer_treinamento_de_trabalho     object\n",
       "num_de_empregados                   int64\n",
       "ano_de_estabelecimento              int64\n",
       "regiao_de_emprego                  object\n",
       "salario_prevalecente              float64\n",
       "unidade_de_salario                 object\n",
       "posicao_em_tempo_integral          object\n",
       "status_do_caso                     object\n",
       "dtype: object"
      ]
     },
     "execution_count": 6,
     "metadata": {},
     "output_type": "execute_result"
    }
   ],
   "source": [
    "df1.dtypes"
   ]
  },
  {
   "attachments": {},
   "cell_type": "markdown",
   "metadata": {},
   "source": [
    "## 1.3 Check NA"
   ]
  },
  {
   "cell_type": "code",
   "execution_count": 7,
   "metadata": {},
   "outputs": [
    {
     "data": {
      "text/plain": [
       "id_do_caso                        0\n",
       "continente                        0\n",
       "educacao_do_empregado             0\n",
       "tem_experiencia_de_trabalho       0\n",
       "requer_treinamento_de_trabalho    0\n",
       "num_de_empregados                 0\n",
       "ano_de_estabelecimento            0\n",
       "regiao_de_emprego                 0\n",
       "salario_prevalecente              0\n",
       "unidade_de_salario                0\n",
       "posicao_em_tempo_integral         0\n",
       "status_do_caso                    0\n",
       "dtype: int64"
      ]
     },
     "execution_count": 7,
     "metadata": {},
     "output_type": "execute_result"
    }
   ],
   "source": [
    "df1.isnull().sum()"
   ]
  },
  {
   "attachments": {},
   "cell_type": "markdown",
   "metadata": {},
   "source": [
    "## 1.4 Descriptive Statistics"
   ]
  },
  {
   "cell_type": "code",
   "execution_count": 12,
   "metadata": {},
   "outputs": [],
   "source": [
    "# dados numericos\n",
    "num_attributes = df1.select_dtypes(include=['int64', 'float64'])\n",
    "\n",
    "# dados categoricos\n",
    "cat_attributes = df1.select_dtypes(exclude=['int64', 'float64'])"
   ]
  },
  {
   "attachments": {},
   "cell_type": "markdown",
   "metadata": {},
   "source": [
    "### 1.4.1. Numerical Atributes"
   ]
  },
  {
   "cell_type": "code",
   "execution_count": 15,
   "metadata": {},
   "outputs": [
    {
     "data": {
      "text/html": [
       "<div>\n",
       "<style scoped>\n",
       "    .dataframe tbody tr th:only-of-type {\n",
       "        vertical-align: middle;\n",
       "    }\n",
       "\n",
       "    .dataframe tbody tr th {\n",
       "        vertical-align: top;\n",
       "    }\n",
       "\n",
       "    .dataframe thead th {\n",
       "        text-align: right;\n",
       "    }\n",
       "</style>\n",
       "<table border=\"1\" class=\"dataframe\">\n",
       "  <thead>\n",
       "    <tr style=\"text-align: right;\">\n",
       "      <th></th>\n",
       "      <th>attributes</th>\n",
       "      <th>min</th>\n",
       "      <th>max</th>\n",
       "      <th>range</th>\n",
       "      <th>mean</th>\n",
       "      <th>median</th>\n",
       "      <th>std</th>\n",
       "      <th>skew</th>\n",
       "      <th>kurtosis</th>\n",
       "    </tr>\n",
       "  </thead>\n",
       "  <tbody>\n",
       "    <tr>\n",
       "      <th>0</th>\n",
       "      <td>num_de_empregados</td>\n",
       "      <td>-26.0000</td>\n",
       "      <td>602069.00</td>\n",
       "      <td>602095.0000</td>\n",
       "      <td>5726.501850</td>\n",
       "      <td>2117.00</td>\n",
       "      <td>23320.723608</td>\n",
       "      <td>12.385660</td>\n",
       "      <td>210.492044</td>\n",
       "    </tr>\n",
       "    <tr>\n",
       "      <th>1</th>\n",
       "      <td>ano_de_estabelecimento</td>\n",
       "      <td>1800.0000</td>\n",
       "      <td>2016.00</td>\n",
       "      <td>216.0000</td>\n",
       "      <td>1979.494898</td>\n",
       "      <td>1997.00</td>\n",
       "      <td>42.096014</td>\n",
       "      <td>-2.030978</td>\n",
       "      <td>3.502421</td>\n",
       "    </tr>\n",
       "    <tr>\n",
       "      <th>2</th>\n",
       "      <td>salario_prevalecente</td>\n",
       "      <td>2.1367</td>\n",
       "      <td>319210.27</td>\n",
       "      <td>319208.1333</td>\n",
       "      <td>74327.428401</td>\n",
       "      <td>70106.92</td>\n",
       "      <td>52794.379516</td>\n",
       "      <td>0.763116</td>\n",
       "      <td>0.845217</td>\n",
       "    </tr>\n",
       "  </tbody>\n",
       "</table>\n",
       "</div>"
      ],
      "text/plain": [
       "               attributes        min        max        range          mean  \\\n",
       "0       num_de_empregados   -26.0000  602069.00  602095.0000   5726.501850   \n",
       "1  ano_de_estabelecimento  1800.0000    2016.00     216.0000   1979.494898   \n",
       "2    salario_prevalecente     2.1367  319210.27  319208.1333  74327.428401   \n",
       "\n",
       "     median           std       skew    kurtosis  \n",
       "0   2117.00  23320.723608  12.385660  210.492044  \n",
       "1   1997.00     42.096014  -2.030978    3.502421  \n",
       "2  70106.92  52794.379516   0.763116    0.845217  "
      ]
     },
     "execution_count": 15,
     "metadata": {},
     "output_type": "execute_result"
    }
   ],
   "source": [
    "'''Dava para usar o comando df1.describe(), porém a forma a seguir tem mais analises '''\n",
    "\n",
    "# Central Tendency - mean, meadina\n",
    "ct1 = pd.DataFrame( num_attributes.apply( np.mean ) ).T\n",
    "ct2 = pd.DataFrame( num_attributes.apply( np.median ) ).T\n",
    "\n",
    "# dispersion - std, min, max, range, skew, kurtosis\n",
    "d1 = pd.DataFrame( num_attributes.apply( np.std ) ).T\n",
    "d2 = pd.DataFrame( num_attributes.apply( min ) ).T\n",
    "d3 = pd.DataFrame( num_attributes.apply( max ) ).T\n",
    "d4 = pd.DataFrame( num_attributes.apply( lambda x: x.max() - x.min() ) ).T  # range\n",
    "d5 = pd.DataFrame( num_attributes.apply( lambda x: x.skew() ) ).T          # range\n",
    "d6 = pd.DataFrame( num_attributes.apply( lambda x: x.kurtosis() ) ).T     # kurtosis\n",
    "\n",
    "# concatenar\n",
    "m = pd.concat( [d2, d3, d4, ct1, ct2, d1, d5, d6] ).T.reset_index()\n",
    "m.columns = ['attributes', 'min', 'max', 'range', 'mean', 'median', 'std', 'skew', 'kurtosis']\n",
    "m"
   ]
  },
  {
   "attachments": {},
   "cell_type": "markdown",
   "metadata": {},
   "source": [
    "Temos alguns valores estranhos, como pode ser visto na variavel 'num_de_empregados' que tem valor negativo."
   ]
  },
  {
   "attachments": {},
   "cell_type": "markdown",
   "metadata": {},
   "source": [
    "### 1.4.2. Categorical Atributes"
   ]
  },
  {
   "cell_type": "code",
   "execution_count": 16,
   "metadata": {},
   "outputs": [
    {
     "data": {
      "text/plain": [
       "id_do_caso                        17836\n",
       "continente                            6\n",
       "educacao_do_empregado                 4\n",
       "tem_experiencia_de_trabalho           2\n",
       "requer_treinamento_de_trabalho        2\n",
       "regiao_de_emprego                     5\n",
       "unidade_de_salario                    4\n",
       "posicao_em_tempo_integral             2\n",
       "status_do_caso                        2\n",
       "dtype: int64"
      ]
     },
     "execution_count": 16,
     "metadata": {},
     "output_type": "execute_result"
    }
   ],
   "source": [
    "cat_attributes.apply( lambda x: x.unique().shape[0] )"
   ]
  },
  {
   "cell_type": "code",
   "execution_count": 42,
   "metadata": {},
   "outputs": [
    {
     "name": "stdout",
     "output_type": "stream",
     "text": [
      "continente:  ['Europa' 'Ásia' 'América do Sul' 'América do Norte' 'África' 'Oceania']\n",
      "educacao_do_empregado:  ['Ensino Médio' 'Mestrado' 'Ensino Superior' 'Doutorado']\n",
      "regiao_de_emprego:  ['Sul' 'Meio-Oeste' 'Ilha' 'Nordeste' 'Oeste']\n",
      "unidade_de_salario:  ['Ano' 'Semana' 'Hora' 'Mês']\n",
      "regiao_de_emprego:  ['Sul' 'Meio-Oeste' 'Ilha' 'Nordeste' 'Oeste']\n"
     ]
    }
   ],
   "source": [
    "print('continente: ',            df1['continente'].unique())\n",
    "print('educacao_do_empregado: ', df1['educacao_do_empregado'].unique())\n",
    "print('regiao_de_emprego: ',     df1['regiao_de_emprego'].unique())\n",
    "print('unidade_de_salario: ',    df1['unidade_de_salario'].unique())\n",
    "print('regiao_de_emprego: ',     df1['regiao_de_emprego'].unique())"
   ]
  },
  {
   "cell_type": "code",
   "execution_count": 32,
   "metadata": {},
   "outputs": [
    {
     "data": {
      "text/plain": [
       "<Axes: xlabel='status_do_caso', ylabel='Count'>"
      ]
     },
     "execution_count": 32,
     "metadata": {},
     "output_type": "execute_result"
    },
    {
     "data": {
      "image/png": "[encoded data removed]",
      "text/plain": [
       "<Figure size 640x480 with 1 Axes>"
      ]
     },
     "metadata": {},
     "output_type": "display_data"
    }
   ],
   "source": [
    "sns.histplot(data=df1, x='status_do_caso')"
   ]
  },
  {
   "attachments": {},
   "cell_type": "markdown",
   "metadata": {},
   "source": [
    "A variavel 'status_do_caso' esta desbalanceada, isso pode prejudicar o aprendizado do modelo."
   ]
  },
  {
   "attachments": {},
   "cell_type": "markdown",
   "metadata": {},
   "source": [
    "# 2.0 FEATURE ENGINEERING"
   ]
  },
  {
   "cell_type": "code",
   "execution_count": 55,
   "metadata": {},
   "outputs": [],
   "source": [
    "df2 = df1.copy()"
   ]
  },
  {
   "cell_type": "code",
   "execution_count": 57,
   "metadata": {},
   "outputs": [
    {
     "data": {
      "text/html": [
       "<div>\n",
       "<style scoped>\n",
       "    .dataframe tbody tr th:only-of-type {\n",
       "        vertical-align: middle;\n",
       "    }\n",
       "\n",
       "    .dataframe tbody tr th {\n",
       "        vertical-align: top;\n",
       "    }\n",
       "\n",
       "    .dataframe thead th {\n",
       "        text-align: right;\n",
       "    }\n",
       "</style>\n",
       "<table border=\"1\" class=\"dataframe\">\n",
       "  <thead>\n",
       "    <tr style=\"text-align: right;\">\n",
       "      <th></th>\n",
       "      <th>0</th>\n",
       "      <th>1</th>\n",
       "      <th>2</th>\n",
       "      <th>3</th>\n",
       "      <th>4</th>\n",
       "    </tr>\n",
       "  </thead>\n",
       "  <tbody>\n",
       "    <tr>\n",
       "      <th>id_do_caso</th>\n",
       "      <td>EZYV10567</td>\n",
       "      <td>EZYV5505</td>\n",
       "      <td>EZYV5207</td>\n",
       "      <td>EZYV7545</td>\n",
       "      <td>EZYV16071</td>\n",
       "    </tr>\n",
       "    <tr>\n",
       "      <th>continente</th>\n",
       "      <td>Europa</td>\n",
       "      <td>Ásia</td>\n",
       "      <td>Ásia</td>\n",
       "      <td>Ásia</td>\n",
       "      <td>Ásia</td>\n",
       "    </tr>\n",
       "    <tr>\n",
       "      <th>educacao_do_empregado</th>\n",
       "      <td>Ensino Médio</td>\n",
       "      <td>Mestrado</td>\n",
       "      <td>Ensino Médio</td>\n",
       "      <td>Ensino Médio</td>\n",
       "      <td>Ensino Superior</td>\n",
       "    </tr>\n",
       "    <tr>\n",
       "      <th>tem_experiencia_de_trabalho</th>\n",
       "      <td>N</td>\n",
       "      <td>S</td>\n",
       "      <td>N</td>\n",
       "      <td>N</td>\n",
       "      <td>S</td>\n",
       "    </tr>\n",
       "    <tr>\n",
       "      <th>requer_treinamento_de_trabalho</th>\n",
       "      <td>S</td>\n",
       "      <td>N</td>\n",
       "      <td>N</td>\n",
       "      <td>N</td>\n",
       "      <td>N</td>\n",
       "    </tr>\n",
       "    <tr>\n",
       "      <th>num_de_empregados</th>\n",
       "      <td>2087</td>\n",
       "      <td>5991</td>\n",
       "      <td>1426</td>\n",
       "      <td>3846</td>\n",
       "      <td>3957</td>\n",
       "    </tr>\n",
       "    <tr>\n",
       "      <th>ano_de_estabelecimento</th>\n",
       "      <td>1855</td>\n",
       "      <td>2003</td>\n",
       "      <td>2000</td>\n",
       "      <td>1992</td>\n",
       "      <td>1949</td>\n",
       "    </tr>\n",
       "    <tr>\n",
       "      <th>regiao_de_emprego</th>\n",
       "      <td>Sul</td>\n",
       "      <td>Meio-Oeste</td>\n",
       "      <td>Ilha</td>\n",
       "      <td>Meio-Oeste</td>\n",
       "      <td>Nordeste</td>\n",
       "    </tr>\n",
       "    <tr>\n",
       "      <th>salario_prevalecente</th>\n",
       "      <td>69711.24</td>\n",
       "      <td>52931.38</td>\n",
       "      <td>110830.21</td>\n",
       "      <td>91884.68</td>\n",
       "      <td>138155.24</td>\n",
       "    </tr>\n",
       "    <tr>\n",
       "      <th>unidade_de_salario</th>\n",
       "      <td>Ano</td>\n",
       "      <td>Ano</td>\n",
       "      <td>Ano</td>\n",
       "      <td>Semana</td>\n",
       "      <td>Ano</td>\n",
       "    </tr>\n",
       "    <tr>\n",
       "      <th>posicao_em_tempo_integral</th>\n",
       "      <td>S</td>\n",
       "      <td>S</td>\n",
       "      <td>S</td>\n",
       "      <td>S</td>\n",
       "      <td>S</td>\n",
       "    </tr>\n",
       "    <tr>\n",
       "      <th>status_do_caso</th>\n",
       "      <td>Negado</td>\n",
       "      <td>Aprovado</td>\n",
       "      <td>Negado</td>\n",
       "      <td>Negado</td>\n",
       "      <td>Aprovado</td>\n",
       "    </tr>\n",
       "  </tbody>\n",
       "</table>\n",
       "</div>"
      ],
      "text/plain": [
       "                                           0           1             2  \\\n",
       "id_do_caso                         EZYV10567    EZYV5505      EZYV5207   \n",
       "continente                            Europa        Ásia          Ásia   \n",
       "educacao_do_empregado           Ensino Médio    Mestrado  Ensino Médio   \n",
       "tem_experiencia_de_trabalho                N           S             N   \n",
       "requer_treinamento_de_trabalho             S           N             N   \n",
       "num_de_empregados                       2087        5991          1426   \n",
       "ano_de_estabelecimento                  1855        2003          2000   \n",
       "regiao_de_emprego                        Sul  Meio-Oeste          Ilha   \n",
       "salario_prevalecente                69711.24    52931.38     110830.21   \n",
       "unidade_de_salario                       Ano         Ano           Ano   \n",
       "posicao_em_tempo_integral                  S           S             S   \n",
       "status_do_caso                        Negado    Aprovado        Negado   \n",
       "\n",
       "                                           3                4  \n",
       "id_do_caso                          EZYV7545        EZYV16071  \n",
       "continente                              Ásia             Ásia  \n",
       "educacao_do_empregado           Ensino Médio  Ensino Superior  \n",
       "tem_experiencia_de_trabalho                N                S  \n",
       "requer_treinamento_de_trabalho             N                N  \n",
       "num_de_empregados                       3846             3957  \n",
       "ano_de_estabelecimento                  1992             1949  \n",
       "regiao_de_emprego                 Meio-Oeste         Nordeste  \n",
       "salario_prevalecente                91884.68        138155.24  \n",
       "unidade_de_salario                    Semana              Ano  \n",
       "posicao_em_tempo_integral                  S                S  \n",
       "status_do_caso                        Negado         Aprovado  "
      ]
     },
     "execution_count": 57,
     "metadata": {},
     "output_type": "execute_result"
    }
   ],
   "source": [
    "df2.head().T"
   ]
  },
  {
   "cell_type": "code",
   "execution_count": null,
   "metadata": {},
   "outputs": [],
   "source": [
    "'''\n",
    "Hipoteses\n",
    "\n",
    "\n",
    "\n",
    "'''"
   ]
  }
 ],
 "metadata": {
  "kernelspec": {
   "display_name": "Python 3",
   "language": "python",
   "name": "python3"
  },
  "language_info": {
   "codemirror_mode": {
    "name": "ipython",
    "version": 3
   },
   "file_extension": ".py",
   "mimetype": "text/x-python",
   "name": "python",
   "nbconvert_exporter": "python",
   "pygments_lexer": "ipython3",
   "version": "3.9.16"
  },
  "orig_nbformat": 4
 },
 "nbformat": 4,
 "nbformat_minor": 2
}
